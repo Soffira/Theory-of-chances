{
 "cells": [
  {
   "cell_type": "code",
   "execution_count": 17,
   "metadata": {},
   "outputs": [],
   "source": [
    "import numpy as np\n",
    "from math import factorial"
   ]
  },
  {
   "cell_type": "code",
   "execution_count": 18,
   "metadata": {},
   "outputs": [],
   "source": [
    "def combinations(n, k):\n",
    "    return int(factorial(n)/ (factorial(k) * factorial(n - k)))"
   ]
  },
  {
   "cell_type": "markdown",
   "metadata": {},
   "source": [
    "#### 1. Даны значения зарплат из выборки выпускников: 100, 80, 75, 77, 89, 33, 45, 25, 65, 17, 30, 24, 57, 55, 70, 75, 65, 84, 90, 150. Посчитать (желательно без использования статистических методов наподобие std, var, mean) среднее арифметическое, среднее квадратичное отклонение, смещенную и несмещенную оценки дисперсий для данной выборки."
   ]
  },
  {
   "cell_type": "code",
   "execution_count": 19,
   "metadata": {},
   "outputs": [
    {
     "name": "stdout",
     "output_type": "stream",
     "text": [
      "среднее арифметическое 65.3\n",
      "среднее квадратичное отклонение 31.624607341019814\n",
      "смещенная оценка дисперсий 950.11 \n",
      "несмещенная оценка дисперсий 1000.1157894736842 \n"
     ]
    }
   ],
   "source": [
    "x = sorted([100, 80, 75, 77, 89, 33, 45, 25, 65, 17, 30, 24, 57, 55, 70, 75, 65, 84, 90, 150])\n",
    "m = sum(x)/len(x)\n",
    "print('среднее арифметическое {}'.format(m))\n",
    "\n",
    "salary_std = np.sqrt(sum((xi - m) ** 2 for xi in x) / (len(x)-1))\n",
    "print('среднее квадратичное отклонение {}'.format(salary_std))\n",
    "\n",
    "disper_move = sum((xi - m) ** 2 for xi in x) / (len(x))\n",
    "print('смещенная оценка дисперсий {} '.format(disper_move))\n",
    "\n",
    "disper_not_move = sum((xi - m) ** 2 for xi in x) / (len(x)-1)\n",
    "print('несмещенная оценка дисперсий {} '.format(disper_not_move))"
   ]
  },
  {
   "cell_type": "markdown",
   "metadata": {},
   "source": [
    "#### 2. В первом ящике находится 8 мячей, из которых 5 - белые. Во втором ящике - 12 мячей, из которых 5 белых. Из первого ящика вытаскивают случайным образом два мяча, из второго - 4. Какова вероятность того, что 3 мяча белые?"
   ]
  },
  {
   "cell_type": "code",
   "execution_count": 20,
   "metadata": {},
   "outputs": [
    {
     "name": "stdout",
     "output_type": "stream",
     "text": [
      "0.0037878787878787884\n",
      "0.01893939393939394\n",
      "0.03156565656565657\n",
      "Вероятность того, что выпадут три белых мяча равна 0.054292929292929296 \n"
     ]
    }
   ],
   "source": [
    "# Достали 3 белых мяча и 1 черный из 2 корзины и 2 черных из первой\n",
    "PA1 = 3/8\n",
    "PA2 = 2/7\n",
    "\n",
    "PB1 = 5/12\n",
    "PB2 = 4/11\n",
    "PB3 = 3/10\n",
    "PB4 = 7/9\n",
    "\n",
    "PAB1 = PA1 * PA2 * PB1 * PB2 * PB3* PB4 \n",
    "print(PAB1)\n",
    "\n",
    "# Достали 2 белых мяча и 2 черных из второй корзины и 1 черный 1 белый из первой\n",
    "PA1 = 5/8\n",
    "PA2 = 3/7\n",
    "\n",
    "PB1 = 5/12\n",
    "PB2 = 4/11\n",
    "PB3 = 7/10\n",
    "PB4 = 6/9\n",
    "\n",
    "PAB2 = PA1 * PA2 * PB1 * PB2 * PB3* PB4\n",
    "print(PAB2)\n",
    "\n",
    "# Достали 1 белый мяч и 3 черных из 2 корзины и 2 белых из первой\n",
    "PA1 = 5/8\n",
    "PA2 = 4/7\n",
    "\n",
    "PB1 = 5/12\n",
    "PB2 = 7/11\n",
    "PB3 = 6/10\n",
    "PB4 = 5/9\n",
    "\n",
    "PAB3 = PA1 * PA2 * PB1 * PB2 * PB3* PB4\n",
    "print(PAB3)\n",
    "\n",
    "P2ball = PAB1 + PAB2 + PAB3\n",
    "print('Вероятность того, что выпадут три белых мяча равна {} '.format(P2ball))"
   ]
  },
  {
   "cell_type": "markdown",
   "metadata": {},
   "source": [
    "#### 3. На соревновании по биатлону один из трех спортсменов стреляет и попадает в мишень. Вероятность попадания для первого спортсмена равна 0.9, для второго — 0.8, для третьего — 0.6. Найти вероятность того, что выстрел произведен: a). первым спортсменом "
   ]
  },
  {
   "cell_type": "code",
   "execution_count": 67,
   "metadata": {},
   "outputs": [
    {
     "name": "stdout",
     "output_type": "stream",
     "text": [
      "0.3 0.26666666666666666 0.19999999999999998\n"
     ]
    }
   ],
   "source": [
    "p11 = p22 = p33 = 1/3\n",
    "p1 = 0.9\n",
    "p2 = 0.8\n",
    "p3 = 0.6\n",
    "\n",
    "#a) первым спортсменом\n",
    "Sportsman1 = (p1*p11)\n",
    "\n",
    "#б) вторым спортсменом\n",
    "Sportsman2 = (p2*p22)\n",
    "\n",
    "#в) третьим спортсменом.\n",
    "Sportsman3 = (p3*p33)\n",
    "print(Sportsman1, Sportsman2, Sportsman3)"
   ]
  },
  {
   "cell_type": "markdown",
   "metadata": {},
   "source": [
    "#### 4. В университет на факультеты A и B поступило равное количество студентов, а на факультет C студентов поступило столько же, сколько на A и B вместе. Вероятность того, что студент факультета A сдаст первую сессию, равна 0.8. Для студента факультета B эта вероятность равна 0.7, а для студента факультета C - 0.9. Студент сдал первую сессию. Какова вероятность, что он учится: a) на факультете A"
   ]
  },
  {
   "cell_type": "code",
   "execution_count": 59,
   "metadata": {},
   "outputs": [
    {
     "name": "stdout",
     "output_type": "stream",
     "text": [
      "0.2 0.175 0.45\n",
      "0.825 0.175\n"
     ]
    }
   ],
   "source": [
    "#2A=2B=C\n",
    "A = B = 0.25\n",
    "C = 0.5\n",
    "\n",
    "pA = 0.8\n",
    "pB = 0.7\n",
    "pC = 0.9\n",
    "\n",
    "# a) на факультете A\n",
    "FacultA = A*pA\n",
    "\n",
    "# б) на факультете B\n",
    "FacultB = B*pB\n",
    "\n",
    "# в) на факультете C\n",
    "FacultC = C*pC\n",
    "\n",
    "print(FacultA, FacultB, FacultC)\n",
    "\n",
    "FacultALL = FacultA + FacultB + FacultC\n",
    "FacultNone = 0.25*0.2+0.25*0.3+0.5*0.1\n",
    "print(FacultALL, FacultNone)"
   ]
  },
  {
   "cell_type": "markdown",
   "metadata": {},
   "source": [
    " #### 5. Устройство состоит из трех деталей. Для первой детали вероятность выйти из строя в первый месяц равна 0.1, для второй - 0.2, для третьей - 0.25. Какова вероятность того, что в первый месяц выйдут из строя: а) все детали "
   ]
  },
  {
   "cell_type": "code",
   "execution_count": 25,
   "metadata": {},
   "outputs": [
    {
     "name": "stdout",
     "output_type": "stream",
     "text": [
      "Вероятность того, что в первый месяц выйдут из строя все детали равна 0.005000000000000001 \n"
     ]
    }
   ],
   "source": [
    "p1 = 0.1\n",
    "p2 = 0.2\n",
    "p3 = 0.25\n",
    "PA3 = p1*p2*p3\n",
    "print('Вероятность того, что в первый месяц выйдут из строя все детали равна {} '.format(PA3))"
   ]
  },
  {
   "cell_type": "markdown",
   "metadata": {},
   "source": [
    "#### б) только две детали "
   ]
  },
  {
   "cell_type": "code",
   "execution_count": 27,
   "metadata": {},
   "outputs": [
    {
     "name": "stdout",
     "output_type": "stream",
     "text": [
      "Вероятность того, что в первый месяц выйдут из строя только 2 детали равна 0.08000000000000002 \n"
     ]
    }
   ],
   "source": [
    "p1 = 0.1\n",
    "p11 = 0.9\n",
    "p2 = 0.2\n",
    "p22 = 0.8\n",
    "p3 = 0.25\n",
    "p33 = 0.75\n",
    "PA2 = (p1*p2*p33)+(p1*p22*p3)+(p11*p2*p3)\n",
    "print('Вероятность того, что в первый месяц выйдут из строя только 2 детали равна {} '.format(PA2))"
   ]
  },
  {
   "cell_type": "markdown",
   "metadata": {},
   "source": [
    "#### в) хотя бы одна деталь "
   ]
  },
  {
   "cell_type": "code",
   "execution_count": 29,
   "metadata": {},
   "outputs": [
    {
     "name": "stdout",
     "output_type": "stream",
     "text": [
      "Вероятность того, что в первый месяц выйдет из строя только 1 деталь равна 0.375 \n"
     ]
    }
   ],
   "source": [
    "p1 = 0.1\n",
    "p11 = 0.9\n",
    "p2 = 0.2\n",
    "p22 = 0.8\n",
    "p3 = 0.25\n",
    "p33 = 0.75\n",
    "PA1 = (p1*p22*p33)+(p11*p2*p33)+(p11*p22*p3)\n",
    "print('Вероятность того, что в первый месяц выйдет из строя только 1 деталь равна {} '.format(PA1))"
   ]
  },
  {
   "cell_type": "markdown",
   "metadata": {},
   "source": [
    "#### г) от одной до двух деталей?"
   ]
  },
  {
   "cell_type": "code",
   "execution_count": 69,
   "metadata": {},
   "outputs": [
    {
     "name": "stdout",
     "output_type": "stream",
     "text": [
      "Вероятность того, что в первый месяц выйдут из строя от одной до двух деталей равна 0.6300000000000001 \n"
     ]
    }
   ],
   "source": [
    "p1 = 0.1\n",
    "p2 = 0.2\n",
    "p3 = 0.25\n",
    "#одна деталь\n",
    "PA1 = p1+p2+p3\n",
    "#две детали\n",
    "PA2 = (p1*p2*(1-p3))+((1-p1)*p2*p3)+(p1*(1-p2)*p3)\n",
    "PA = PA1+PA2\n",
    "print('Вероятность того, что в первый месяц выйдут из строя от одной до двух деталей равна {} '.format(PA))"
   ]
  }
 ],
 "metadata": {
  "kernelspec": {
   "display_name": "Python 3",
   "language": "python",
   "name": "python3"
  },
  "language_info": {
   "codemirror_mode": {
    "name": "ipython",
    "version": 3
   },
   "file_extension": ".py",
   "mimetype": "text/x-python",
   "name": "python",
   "nbconvert_exporter": "python",
   "pygments_lexer": "ipython3",
   "version": "3.6.5"
  }
 },
 "nbformat": 4,
 "nbformat_minor": 2
}
