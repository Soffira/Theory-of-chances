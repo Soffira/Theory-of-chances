{
 "cells": [
  {
   "cell_type": "code",
   "execution_count": 1,
   "metadata": {},
   "outputs": [],
   "source": [
    "import numpy as np\n",
    "from math import factorial"
   ]
  },
  {
   "cell_type": "code",
   "execution_count": 2,
   "metadata": {},
   "outputs": [],
   "source": [
    "def combinations(n, k):\n",
    "    return int(factorial(n)/ (factorial(k) * factorial(n - k)))"
   ]
  },
  {
   "cell_type": "markdown",
   "metadata": {},
   "source": [
    "#### 1. Вероятность того, что стрелок попадет в мишень, выстрелив один раз, равна 0.8. Стрелок выстрелил 100 раз. Найдите вероятность того, что стрелок попадет в цель ровно 85 раз."
   ]
  },
  {
   "cell_type": "code",
   "execution_count": 33,
   "metadata": {},
   "outputs": [
    {
     "name": "stdout",
     "output_type": "stream",
     "text": [
      "Вероятность того, что стрелок попадет в цель ровно 85 раз равна 0.048061793700746355 или около 4.81 %\n"
     ]
    }
   ],
   "source": [
    "n = 100\n",
    "p = 0.8\n",
    "k = 85\n",
    "q = 1-p\n",
    "possib_85 = combinations(n, k) * (p**k) * (q**(n-k))\n",
    "\n",
    "possib_85_per = float('{:.2f}'.format(possib_85*100))\n",
    "print('Вероятность того, что стрелок попадет в цель ровно 85 раз равна {} или около {} %'.format(possib_85, possib_85_per))"
   ]
  },
  {
   "cell_type": "markdown",
   "metadata": {},
   "source": [
    "#### 2. Вероятность того, что лампочка перегорит в течение первого дня эксплуатации, равна 0.0004. В жилом комплексе после ремонта в один день включили 5000 новых лампочек. Какова вероятность, что перегорят ровно две? "
   ]
  },
  {
   "cell_type": "code",
   "execution_count": 48,
   "metadata": {},
   "outputs": [
    {
     "name": "stdout",
     "output_type": "stream",
     "text": [
      "Вероятность того, что перегорят ровно две лампочки равна 1.6e-07\n"
     ]
    }
   ],
   "source": [
    "n = 5000\n",
    "p = 0.0004\n",
    "poss_2 = p ** 2\n",
    "print('Вероятность того, что перегорят ровно две лампочки равна {}'.format(poss_2))"
   ]
  },
  {
   "cell_type": "markdown",
   "metadata": {},
   "source": [
    "#### Какова вероятность, что ни одна из них не перегорит в первый день?"
   ]
  },
  {
   "cell_type": "code",
   "execution_count": 49,
   "metadata": {},
   "outputs": [
    {
     "name": "stdout",
     "output_type": "stream",
     "text": [
      "Вероятность того, что ни одна из них не перегорит в первый день равна 1.0\n"
     ]
    }
   ],
   "source": [
    "n = 5000\n",
    "p = 0.0004\n",
    "poss_5000 = p**n\n",
    "poss_0 = 1 - (poss_5000)\n",
    "\n",
    "print('Вероятность того, что ни одна из них не перегорит в первый день равна {}'.format(poss_0))"
   ]
  },
  {
   "cell_type": "markdown",
   "metadata": {},
   "source": [
    "#### 3. Монету подбросили 144 раза. Какова вероятность, что орел выпадет ровно 70 раз?"
   ]
  },
  {
   "cell_type": "code",
   "execution_count": 34,
   "metadata": {},
   "outputs": [
    {
     "name": "stdout",
     "output_type": "stream",
     "text": [
      "Вероятность того, что орел выпадет ровно 70 раз равна 0.06281178035144776 или около 6.28 %\n"
     ]
    }
   ],
   "source": [
    "n = 144\n",
    "k = 70\n",
    "p = 1/2\n",
    "q = 1-p\n",
    "eagle = combinations(n, k) * (p**k) * (q**(n-k))\n",
    "eagle_per = float('{:.2f}'.format(eagle*100))\n",
    "print('Вероятность того, что орел выпадет ровно 70 раз равна {} или около {} %'.format(eagle, eagle_per))"
   ]
  },
  {
   "cell_type": "markdown",
   "metadata": {},
   "source": [
    "#### 4. В первом ящике находится 10 мячей, из которых 7 - белые. Во втором ящике - 11 мячей, из которых 9 белых. Из каждого ящика вытаскивают случайным образом по два мяча. Какова вероятность того, что все мячи белые? "
   ]
  },
  {
   "cell_type": "code",
   "execution_count": 52,
   "metadata": {},
   "outputs": [
    {
     "name": "stdout",
     "output_type": "stream",
     "text": [
      "Вероятность того, что все мячи белые равна 0.3054545454545455 \n"
     ]
    }
   ],
   "source": [
    "# A = вытащить 1 белый мяч из 1 корзины\n",
    "# B = вытащить 1 белый мяч из 2 корзины\n",
    "PA1 = 7/10\n",
    "PA2 = (7-1)/(10-1)\n",
    "PA = PA1 * PA2\n",
    "\n",
    "PB1 = 9/11\n",
    "PB2 = (9-1)/(11-1)\n",
    "PB = PB1 * PB2\n",
    "\n",
    "P_AB = PA * PB\n",
    "print('Вероятность того, что все мячи белые равна {} '.format(P_AB))"
   ]
  },
  {
   "cell_type": "markdown",
   "metadata": {},
   "source": [
    "#### Какова вероятность того, что ровно два мяча белые?"
   ]
  },
  {
   "cell_type": "code",
   "execution_count": null,
   "metadata": {},
   "outputs": [],
   "source": []
  },
  {
   "cell_type": "markdown",
   "metadata": {},
   "source": [
    " #### Какова вероятность того, что хотя бы один мяч белый?"
   ]
  },
  {
   "cell_type": "code",
   "execution_count": null,
   "metadata": {},
   "outputs": [],
   "source": []
  }
 ],
 "metadata": {
  "kernelspec": {
   "display_name": "Python 3",
   "language": "python",
   "name": "python3"
  },
  "language_info": {
   "codemirror_mode": {
    "name": "ipython",
    "version": 3
   },
   "file_extension": ".py",
   "mimetype": "text/x-python",
   "name": "python",
   "nbconvert_exporter": "python",
   "pygments_lexer": "ipython3",
   "version": "3.6.5"
  }
 },
 "nbformat": 4,
 "nbformat_minor": 2
}
