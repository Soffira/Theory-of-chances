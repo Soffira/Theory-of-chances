{
 "cells": [
  {
   "cell_type": "code",
   "execution_count": 87,
   "metadata": {},
   "outputs": [],
   "source": [
    "import numpy as np\n",
    "from math import factorial"
   ]
  },
  {
   "cell_type": "markdown",
   "metadata": {},
   "source": [
    "#### 1. Случайная непрерывная величина A имеет равномерное распределение на промежутке (200, 800]. Найдите ее среднее значение и дисперсию."
   ]
  },
  {
   "cell_type": "code",
   "execution_count": 88,
   "metadata": {},
   "outputs": [
    {
     "name": "stdout",
     "output_type": "stream",
     "text": [
      "среднее значение = 500.0\n",
      "дисперсия = 30000.0\n"
     ]
    }
   ],
   "source": [
    "a = 200\n",
    "b = 800\n",
    "M_X = (a+b)/2\n",
    "D_X = (800-200)**2/12\n",
    "print('среднее значение = {}'.format(M_X))\n",
    "print('дисперсия = {}'.format(D_X))"
   ]
  },
  {
   "cell_type": "markdown",
   "metadata": {},
   "source": [
    "#### 2. О случайной непрерывной равномерно распределенной величине B известно, что ее дисперсия равна 0.2. Можно ли найти правую границу величины B и ее среднее значение зная, что левая граница равна 0.5? Если да, найдите ее."
   ]
  },
  {
   "cell_type": "code",
   "execution_count": 89,
   "metadata": {},
   "outputs": [
    {
     "name": "stdout",
     "output_type": "stream",
     "text": [
      "значение b = 2.04919\n",
      "среднее значение M_X = 1.274595\n"
     ]
    }
   ],
   "source": [
    "D_X = 0.2\n",
    "a = 0.5\n",
    "# D_X = ((b-0.5)**2)/12=0.2\n",
    "# (b-0.5)**2=12*0.2\n",
    "# (b-0.5)**2 = 2.4\n",
    "# (b-0.5) = sqrt(2.4)\n",
    "# b-0.5 = 1.54919\n",
    "# b = 1.54919 + 0.5\n",
    "b = 2.04919\n",
    "print('значение b = {}'.format(b))\n",
    "M_X = (a+b)/2\n",
    "print('среднее значение M_X = {}'.format(M_X))"
   ]
  },
  {
   "cell_type": "markdown",
   "metadata": {},
   "source": [
    "#### 3. Непрерывная случайная величина X распределена нормально и задана плотностью распределения f(x) = (1 / (4 * sqrt(2*pi))) * (exp(-(x+2)**2) / 32).\n",
    "Найдите:\n",
    "а). M(X)\n",
    "б). D(X)\n",
    "в). std(X) (среднее квадратичное отклонение)"
   ]
  },
  {
   "cell_type": "code",
   "execution_count": 90,
   "metadata": {},
   "outputs": [
    {
     "name": "stdout",
     "output_type": "stream",
     "text": [
      "M(X) -2\n",
      "std(X) (среднее квадратичное отклонение) 4\n",
      "D(X) 16\n"
     ]
    }
   ],
   "source": [
    "M_X = a = -2\n",
    "q = 4\n",
    "D_X = q**2\n",
    "print('M(X) {}'.format(M_X))\n",
    "print('std(X) (среднее квадратичное отклонение) {}'.format(q))\n",
    "print('D(X) {}'.format(D_X))"
   ]
  },
  {
   "cell_type": "markdown",
   "metadata": {},
   "source": [
    "#### 4. Рост взрослого населения города X имеет нормальное распределение. Причем, средний рост равен 174 см, а среднее квадратичное отклонение равно 8 см. Какова вероятность того, что случайным образом выбранный взрослый человек имеет рост:\n",
    "а). больше 182 см\n",
    "б). больше 190 см\n",
    "в). от 166 см до 190 см\n",
    "г). от 166 см до 182 см\n",
    "д). от 158 см до 190 см\n",
    "е). не выше 150 см или не ниже 190 см\n",
    "ё). не выше 150 см или не ниже 198 см\n",
    "ж). ниже 166 см.\n",
    "\n"
   ]
  },
  {
   "cell_type": "markdown",
   "metadata": {},
   "source": [
    "##### а) больше 182 см"
   ]
  },
  {
   "cell_type": "code",
   "execution_count": 91,
   "metadata": {},
   "outputs": [
    {
     "name": "stdout",
     "output_type": "stream",
     "text": [
      "1.0\n",
      "0.15869999999999995 или  15.87 %\n"
     ]
    }
   ],
   "source": [
    "a = (182-174)/8\n",
    "print(a)\n",
    "#исходя из таблицы P от 1 = 0.8413\n",
    "P = 1 - 0.8413\n",
    "p_per = float('{:.2f}'.format(P*100))\n",
    "print(str(P), 'или ', str(p_per) + ' %')"
   ]
  },
  {
   "cell_type": "markdown",
   "metadata": {},
   "source": [
    "##### б) больше 190 см"
   ]
  },
  {
   "cell_type": "code",
   "execution_count": 92,
   "metadata": {},
   "outputs": [
    {
     "name": "stdout",
     "output_type": "stream",
     "text": [
      "2.0\n",
      "0.022800000000000042 или  2.28 %\n"
     ]
    }
   ],
   "source": [
    "b = (190-174)/8\n",
    "print(b)\n",
    "#исходя из таблицы P от 2 = 0.9772\n",
    "P = 1-0.9772\n",
    "p_per = float('{:.2f}'.format(P*100))\n",
    "print(str(P), 'или ', str(p_per) + ' %')"
   ]
  },
  {
   "cell_type": "markdown",
   "metadata": {},
   "source": [
    "##### в) от 166 см до 190 см "
   ]
  },
  {
   "cell_type": "code",
   "execution_count": 93,
   "metadata": {},
   "outputs": [
    {
     "name": "stdout",
     "output_type": "stream",
     "text": [
      "2.0\n",
      "-1.0\n",
      "0.8185 или  81.85 %\n"
     ]
    }
   ],
   "source": [
    "v_190 = (190-174)/8\n",
    "print(v_190)\n",
    "#исходя из таблицы P от 2 = 0.9772\n",
    "v_166 = (166-174)/8\n",
    "print(v_166)\n",
    "#исходя из таблицы P от -1 = 0.1587\n",
    "P = (0.9772 - 0.1587)\n",
    "p_per = float('{:.2f}'.format(P*100))\n",
    "print(str(P), 'или ', str(p_per) + ' %')"
   ]
  },
  {
   "cell_type": "markdown",
   "metadata": {},
   "source": [
    "##### г) от 166 см до 182 см "
   ]
  },
  {
   "cell_type": "code",
   "execution_count": 94,
   "metadata": {},
   "outputs": [
    {
     "name": "stdout",
     "output_type": "stream",
     "text": [
      "1.0\n",
      "-1.0\n",
      "0.6826000000000001 или  68.26 %\n"
     ]
    }
   ],
   "source": [
    "g_182 = (182-174)/8\n",
    "print(g_182)\n",
    "#исходя из таблицы P от 1 = 0.8413\n",
    "g_166 = (166-174)/8\n",
    "print(g_166)\n",
    "#исходя из таблицы P от -1 = 0.1587\n",
    "P = (0.8413 - 0.1587)\n",
    "p_per = float('{:.2f}'.format(P*100))\n",
    "print(str(P), 'или ', str(p_per) + ' %')"
   ]
  },
  {
   "cell_type": "markdown",
   "metadata": {},
   "source": [
    "##### д) от 158 см до 190 см"
   ]
  },
  {
   "cell_type": "code",
   "execution_count": 95,
   "metadata": {},
   "outputs": [
    {
     "name": "stdout",
     "output_type": "stream",
     "text": [
      "2.0\n",
      "-2.0\n",
      "0.9543999999999999 или  95.44 %\n"
     ]
    }
   ],
   "source": [
    "d_190 = (190-174)/8\n",
    "print(d_190)\n",
    "#исходя из таблицы P от 2 = 0.9772\n",
    "d_158 = (158-174)/8\n",
    "print(d_158)\n",
    "#исходя из таблицы P от -2 = 0.0228\n",
    "P = (0.9772 - 0.0228)\n",
    "p_per = float('{:.2f}'.format(P*100))\n",
    "print(str(P), 'или ', str(p_per) + ' %')"
   ]
  },
  {
   "cell_type": "markdown",
   "metadata": {},
   "source": [
    "##### е) не выше 150 см или не ниже 190 см"
   ]
  },
  {
   "cell_type": "code",
   "execution_count": 96,
   "metadata": {},
   "outputs": [
    {
     "name": "stdout",
     "output_type": "stream",
     "text": [
      "2.0\n",
      "-3.0\n",
      "0.024150000000000043 или  2.42 %\n"
     ]
    }
   ],
   "source": [
    "e_190 = (190-174)/8\n",
    "print(e_190)\n",
    "#исходя из таблицы P от 2 = 0.9772\n",
    "e_150 = (150-174)/8\n",
    "print(e_150)\n",
    "#исходя из таблицы P от -3 = 0.00135\n",
    "P = (1-0.9772) + (0.00135)\n",
    "p_per = float('{:.2f}'.format(P*100))\n",
    "print(str(P), 'или ', str(p_per) + ' %')"
   ]
  },
  {
   "cell_type": "markdown",
   "metadata": {},
   "source": [
    "##### ё) не выше 150 см или не ниже 198 см"
   ]
  },
  {
   "cell_type": "code",
   "execution_count": 97,
   "metadata": {},
   "outputs": [
    {
     "name": "stdout",
     "output_type": "stream",
     "text": [
      "3.0\n",
      "-3.0\n",
      "0.0026999999999999624 или  0.27 %\n"
     ]
    }
   ],
   "source": [
    "e1_198 = (198-174)/8\n",
    "print(e1_198)\n",
    "#исходя из таблицы P от 3 = 0.99865\n",
    "e1_150 = (150-174)/8\n",
    "print(e1_150)\n",
    "#исходя из таблицы P от -3 = 0.00135\n",
    "P = (1-0.99865) + (0.00135)\n",
    "p_per = float('{:.2f}'.format(P*100))\n",
    "print(str(P), 'или ', str(p_per) + ' %')"
   ]
  },
  {
   "cell_type": "markdown",
   "metadata": {},
   "source": [
    "##### ж) ниже 166 см"
   ]
  },
  {
   "cell_type": "code",
   "execution_count": 98,
   "metadata": {},
   "outputs": [
    {
     "name": "stdout",
     "output_type": "stream",
     "text": [
      "-1.0\n",
      "0.1587 или  15.87 %\n"
     ]
    }
   ],
   "source": [
    "j1_166 = (166-174)/8\n",
    "print(j1_166)\n",
    "#исходя из таблицы P от -1 = 0.1587\n",
    "P = 0.1587\n",
    "p_per = float('{:.2f}'.format(P*100))\n",
    "print(str(P), 'или ', str(p_per) + ' %')"
   ]
  },
  {
   "cell_type": "markdown",
   "metadata": {},
   "source": [
    " #### 5. На сколько сигм (средних квадратичных отклонений) отклоняется рост человека, равный 190 см, от математического ожидания роста в популяции, в которой M(X) = 178 см и D(X) = 25 кв.см?1 "
   ]
  },
  {
   "cell_type": "code",
   "execution_count": 99,
   "metadata": {},
   "outputs": [
    {
     "name": "stdout",
     "output_type": "stream",
     "text": [
      "На 2.4 сигмы отклоняется рост человека, равный 190 см от математического ожидания роста в популяции, в которой M(X) = 178 см\n"
     ]
    }
   ],
   "source": [
    "M_X = 178\n",
    "D_X = 25\n",
    "q = np.sqrt(D_X)\n",
    "x = 190\n",
    "deviation = (x-M_X)/q\n",
    "print('На {} сигмы отклоняется рост человека, равный 190 см от математического ожидания роста в популяции, в которой M(X) = 178 см'.format(deviation))"
   ]
  }
 ],
 "metadata": {
  "kernelspec": {
   "display_name": "Python 3",
   "language": "python",
   "name": "python3"
  },
  "language_info": {
   "codemirror_mode": {
    "name": "ipython",
    "version": 3
   },
   "file_extension": ".py",
   "mimetype": "text/x-python",
   "name": "python",
   "nbconvert_exporter": "python",
   "pygments_lexer": "ipython3",
   "version": "3.6.5"
  }
 },
 "nbformat": 4,
 "nbformat_minor": 2
}
