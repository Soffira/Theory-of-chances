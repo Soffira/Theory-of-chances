{
 "cells": [
  {
   "cell_type": "markdown",
   "metadata": {},
   "source": [
    "##### Внимательно будьте со 2 и 4 заданиями.Мы на вебинаре рассматривали случаи с известной сигмой.Когда сигма генеральной совокупности нам неизвестна, делаем все то же самое,только берем t-критерий (критерий Стьюдента), а сигму считаем из выборки.В материалах есть таблица для критерия Стьюдента. График плотности распределения Стьюдента симметричный"
   ]
  },
  {
   "cell_type": "code",
   "execution_count": 2,
   "metadata": {},
   "outputs": [],
   "source": [
    "import numpy as np\n",
    "import pandas as pd\n",
    "from math import factorial"
   ]
  },
  {
   "cell_type": "markdown",
   "metadata": {},
   "source": [
    "#### 1. Известно, что генеральная совокупность распределена нормально со средним квадратическим отклонением, равным 16. Найти доверительный интервал для оценки математического ожидания a с надежностью 0.95, если выборочная средняя M = 80, а объем выборки n = 256."
   ]
  },
  {
   "cell_type": "code",
   "execution_count": 3,
   "metadata": {},
   "outputs": [
    {
     "name": "stdout",
     "output_type": "stream",
     "text": [
      "z1 = 78.04\n",
      "z2 = 81.96\n"
     ]
    }
   ],
   "source": [
    "q = 16\n",
    "l = 0.95\n",
    "M = 80\n",
    "n = 256\n",
    "z1 = M-(1.96*q/(np.sqrt(n)))\n",
    "z2 = M+(1.96*q/(np.sqrt(n)))\n",
    "print('z1 = {}'.format(z1))\n",
    "print('z2 = {}'.format(z2))"
   ]
  },
  {
   "cell_type": "markdown",
   "metadata": {},
   "source": [
    "#### 2. В результате 10 независимых измерений некоторой величины X, выполненных с одинаковой точностью, получены опытные данные: 6.9, 6.1, 6.2, 6.8, 7.5, 6.3, 6.4, 6.9, 6.7, 6.1 Предполагая, что результаты измерений подчинены нормальному закону распределения вероятностей, оценить истинное значение величины X при помощи доверительного интервала, покрывающего это значение с доверительной вероятностью 0,95."
   ]
  },
  {
   "cell_type": "code",
   "execution_count": 4,
   "metadata": {},
   "outputs": [
    {
     "name": "stdout",
     "output_type": "stream",
     "text": [
      "X1 = 6.590000000000001, k = 0.4508017549014448, n = 10\n",
      "q = 0.322176632023836\n",
      "z1 = 6.789687145351144, z2 = 6.390312854648857\n"
     ]
    }
   ],
   "source": [
    "X = pd.DataFrame([6.9, 6.1, 6.2, 6.8, 7.5, 6.3, 6.4, 6.9, 6.7, 6.1])\n",
    "X1 = X.mean().values[0]\n",
    "k = X.std(ddof=1).values[0]\n",
    "n = X.shape[0]\n",
    "print('X1 = {}, k = {}, n = {}'.format(X1, k, n))\n",
    "a = 0.05\n",
    "# v = n-1 = 9\n",
    "# a = 0.95\n",
    "t = 2.26\n",
    "\n",
    "q = t*k/ (np.sqrt(n))\n",
    "print('q = {}'.format(q))\n",
    "z1 = X1 + 1.96*(q/np.sqrt(n))\n",
    "z2 = X1 - 1.96*(q/np.sqrt(n))\n",
    "print('z1 = {}, z2 = {}'.format(z1,z2))"
   ]
  },
  {
   "cell_type": "markdown",
   "metadata": {},
   "source": [
    "#### 3. Утверждается, что шарики для подшипников, изготовленные автоматическим станком, имеют средний диаметр 17 мм. Используя односторонний критерий с α=0,05, проверить эту гипотезу, если в выборке из n=100 шариков средний диаметр оказался равным 17.5 мм, а дисперсия известна и равна 4 мм."
   ]
  },
  {
   "cell_type": "code",
   "execution_count": 5,
   "metadata": {},
   "outputs": [
    {
     "name": "stdout",
     "output_type": "stream",
     "text": [
      "z = 2.5\n",
      "Принимаем альтернативную гипотезу\n"
     ]
    }
   ],
   "source": [
    "x1 = 17.5\n",
    "x0 = 17\n",
    "a = 1.645\n",
    "n = 100\n",
    "D = 4\n",
    "q = np.sqrt(D)\n",
    "z = (x1-x0)/(q/np.sqrt(n))\n",
    "print('z = {}'.format(z))\n",
    "if z < a:\n",
    "    print('Принимаем нулевую гипотезу')\n",
    "else: \n",
    "    print('Принимаем альтернативную гипотезу')"
   ]
  },
  {
   "cell_type": "markdown",
   "metadata": {},
   "source": [
    "#### 4. Продавец утверждает, что средний вес пачки печенья составляет 200 г. Из партии извлечена выборка из 10 пачек. Вес каждой пачки составляет: 202, 203, 199, 197, 195, 201, 200, 204, 194, 190. Известно, что их веса распределены нормально. Верно ли утверждение продавца, если учитывать, что доверительная вероятность равна 99%? Найдите:"
   ]
  },
  {
   "cell_type": "code",
   "execution_count": 16,
   "metadata": {},
   "outputs": [
    {
     "name": "stdout",
     "output_type": "stream",
     "text": [
      "X1 = 198.5, k = 4.453463071962462, n = 10\n",
      "q = 4.577003204426814\n",
      "z1 = -1.0651074037450896\n",
      "Утверждение продавца неверно\n"
     ]
    }
   ],
   "source": [
    "X = pd.DataFrame([202, 203, 199, 197, 195, 201, 200, 204, 194, 190])\n",
    "X1 = X.mean().values[0]\n",
    "k = X.std(ddof=1).values[0]\n",
    "n = X.shape[0]\n",
    "print('X1 = {}, k = {}, n = {}'.format(X1, k, n))\n",
    "a = 0.01\n",
    "# v = n-1 = 9\n",
    "# a = 0.99\n",
    "t = 3.25\n",
    "#t = -3.25 and 3.25\n",
    "\n",
    "q = t*k/ (np.sqrt(n))\n",
    "print('q = {}'.format(q))\n",
    "\n",
    "z = (X1 - 200)*(np.sqrt(n))/k\n",
    "print('z1 = {}'.format(z1,z2))\n",
    "\n",
    "if z <= -3.25 and z >= 3.25:\n",
    "    print('Утверждение продавца верно')\n",
    "else: \n",
    "    print('Утверждение продавца неверно')"
   ]
  },
  {
   "cell_type": "markdown",
   "metadata": {},
   "source": [
    "##### а) M(X)"
   ]
  },
  {
   "cell_type": "code",
   "execution_count": 7,
   "metadata": {},
   "outputs": [
    {
     "name": "stdout",
     "output_type": "stream",
     "text": [
      "M_X = 198.5\n"
     ]
    }
   ],
   "source": [
    "M_X = X1\n",
    "print('M_X = {}'.format(M_X))"
   ]
  },
  {
   "cell_type": "markdown",
   "metadata": {},
   "source": [
    "##### б) D(X)"
   ]
  },
  {
   "cell_type": "code",
   "execution_count": 8,
   "metadata": {},
   "outputs": [
    {
     "name": "stdout",
     "output_type": "stream",
     "text": [
      "20.94895833333332\n"
     ]
    }
   ],
   "source": [
    "D_X = q ** 2\n",
    "print(D_X)"
   ]
  },
  {
   "cell_type": "markdown",
   "metadata": {},
   "source": [
    "##### в) std(X) (среднее квадратичное отклонение)"
   ]
  },
  {
   "cell_type": "code",
   "execution_count": 9,
   "metadata": {},
   "outputs": [
    {
     "name": "stdout",
     "output_type": "stream",
     "text": [
      "4.577003204426814\n"
     ]
    }
   ],
   "source": [
    "q = t*k/ (np.sqrt(n))\n",
    "print(q)"
   ]
  }
 ],
 "metadata": {
  "kernelspec": {
   "display_name": "Python 3",
   "language": "python",
   "name": "python3"
  },
  "language_info": {
   "codemirror_mode": {
    "name": "ipython",
    "version": 3
   },
   "file_extension": ".py",
   "mimetype": "text/x-python",
   "name": "python",
   "nbconvert_exporter": "python",
   "pygments_lexer": "ipython3",
   "version": "3.6.5"
  }
 },
 "nbformat": 4,
 "nbformat_minor": 2
}
