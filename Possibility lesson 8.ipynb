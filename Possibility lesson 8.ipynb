{
 "cells": [
  {
   "cell_type": "markdown",
   "metadata": {},
   "source": [
    "#### 1. Провести дисперсионный анализ для определения того, есть ли различия среднего роста среди взрослых футболистов, хоккеистов и штангистов. Даны значения роста в трех группах случайно выбранных спортсменов: Футболисты: 173, 175, 180, 178, 177, 185, 183, 182. Хоккеисты: 177, 179, 180, 188, 177, 172, 171, 184, 180. Штангисты: 172, 173, 169, 177, 166, 180, 178, 177, 172, 166, 170."
   ]
  },
  {
   "cell_type": "code",
   "execution_count": 85,
   "metadata": {},
   "outputs": [
    {
     "name": "stdout",
     "output_type": "stream",
     "text": [
      "n1 = 8, y1 = 179.125\n"
     ]
    }
   ],
   "source": [
    "# Футболисты:\n",
    "lst1 = np.array([173, 175, 180, 178, 177, 185, 183, 182])\n",
    "n1 = lst1.shape[0]\n",
    "y1 = lst1.sum()/n1\n",
    "print('n1 = {}, y1 = {}'.format(n1, y1))"
   ]
  },
  {
   "cell_type": "code",
   "execution_count": 86,
   "metadata": {},
   "outputs": [
    {
     "name": "stdout",
     "output_type": "stream",
     "text": [
      "n2 = 9, y2 = 178.66666666666666\n"
     ]
    }
   ],
   "source": [
    "# Хоккеисты:\n",
    "lst2 = np.array([177, 179, 180, 188, 177, 172, 171, 184, 180])\n",
    "n2 = lst2.shape[0]\n",
    "y2 = lst2.sum()/n2\n",
    "print('n2 = {}, y2 = {}'.format(n2, y2))"
   ]
  },
  {
   "cell_type": "code",
   "execution_count": 87,
   "metadata": {},
   "outputs": [
    {
     "name": "stdout",
     "output_type": "stream",
     "text": [
      "n3 = 11, y3 = 172.72727272727272\n"
     ]
    }
   ],
   "source": [
    "# Штангисты:\n",
    "lst3 = np.array([172, 173, 169, 177, 166, 180, 178, 177, 172, 166, 170])\n",
    "n3 = lst3.shape[0]\n",
    "y3 = lst3.sum()/n3\n",
    "print('n3 = {}, y3 = {}'.format(n3, y3))"
   ]
  },
  {
   "cell_type": "code",
   "execution_count": 88,
   "metadata": {},
   "outputs": [
    {
     "name": "stdout",
     "output_type": "stream",
     "text": [
      "Y_mean = 176.46428571428572\n",
      "S_F = 253.9074675324678\n"
     ]
    }
   ],
   "source": [
    "Y_mean = (lst1.sum()+lst2.sum()+lst3.sum())/(n1+n2+n3)\n",
    "print('Y_mean = {}'.format(Y_mean))\n",
    "\n",
    "S_F = ((y1-Y_mean)**2)*n1+((y2-Y_mean)**2)*n2+((y3-Y_mean)**2)*n3\n",
    "print('S_F = {}'.format(S_F))"
   ]
  },
  {
   "cell_type": "code",
   "execution_count": 100,
   "metadata": {},
   "outputs": [],
   "source": [
    "S_ost1 = []\n",
    "S_ost2 = []\n",
    "S_ost3 = []\n",
    "\n",
    "for i in lst1:\n",
    "    s1 = (i-y1)**2\n",
    "    S_ost1.append(s1)\n",
    "for i in lst2:\n",
    "    s2 = (i-y2)**2\n",
    "    S_ost2.append(s2)\n",
    "for i in lst3:\n",
    "    s3 = (i-y3)**2\n",
    "    S_ost3.append(s3)"
   ]
  },
  {
   "cell_type": "code",
   "execution_count": 101,
   "metadata": {},
   "outputs": [
    {
     "data": {
      "text/plain": [
       "577.0568181818181"
      ]
     },
     "execution_count": 101,
     "metadata": {},
     "output_type": "execute_result"
    }
   ],
   "source": [
    "S_ost = sum(S_ost1) + sum(S_ost2) + sum(S_ost3)\n",
    "S_ost"
   ]
  },
  {
   "cell_type": "code",
   "execution_count": 91,
   "metadata": {},
   "outputs": [
    {
     "data": {
      "text/plain": [
       "830.9642857142859"
      ]
     },
     "execution_count": 91,
     "metadata": {},
     "output_type": "execute_result"
    }
   ],
   "source": [
    "S = S_F+S_ost\n",
    "S"
   ]
  },
  {
   "cell_type": "code",
   "execution_count": 92,
   "metadata": {},
   "outputs": [
    {
     "data": {
      "text/plain": [
       "30.776455026455032"
      ]
     },
     "execution_count": 92,
     "metadata": {},
     "output_type": "execute_result"
    }
   ],
   "source": [
    "q_gen = S/((n1+n2+n3)-1)\n",
    "q_gen"
   ]
  },
  {
   "cell_type": "code",
   "execution_count": 93,
   "metadata": {},
   "outputs": [
    {
     "data": {
      "text/plain": [
       "126.9537337662339"
      ]
     },
     "execution_count": 93,
     "metadata": {},
     "output_type": "execute_result"
    }
   ],
   "source": [
    "q_F = S_F/(3-1)\n",
    "q_F"
   ]
  },
  {
   "cell_type": "code",
   "execution_count": 94,
   "metadata": {},
   "outputs": [
    {
     "data": {
      "text/plain": [
       "23.082272727272724"
      ]
     },
     "execution_count": 94,
     "metadata": {},
     "output_type": "execute_result"
    }
   ],
   "source": [
    "q_ost = S_ost/((n1+n2+n3)-3)\n",
    "q_ost"
   ]
  },
  {
   "cell_type": "code",
   "execution_count": 95,
   "metadata": {},
   "outputs": [
    {
     "data": {
      "text/plain": [
       "5.500053450812599"
      ]
     },
     "execution_count": 95,
     "metadata": {},
     "output_type": "execute_result"
    }
   ],
   "source": [
    "F_H = q_F/q_ost\n",
    "F_H"
   ]
  },
  {
   "cell_type": "code",
   "execution_count": 96,
   "metadata": {},
   "outputs": [
    {
     "data": {
      "text/plain": [
       "2"
      ]
     },
     "execution_count": 96,
     "metadata": {},
     "output_type": "execute_result"
    }
   ],
   "source": [
    "df=3-1\n",
    "df"
   ]
  },
  {
   "cell_type": "code",
   "execution_count": 97,
   "metadata": {},
   "outputs": [
    {
     "data": {
      "text/plain": [
       "25"
      ]
     },
     "execution_count": 97,
     "metadata": {},
     "output_type": "execute_result"
    }
   ],
   "source": [
    "df_inner = (n1+n2+n3)-3\n",
    "df_inner"
   ]
  },
  {
   "cell_type": "code",
   "execution_count": 98,
   "metadata": {},
   "outputs": [],
   "source": [
    "# Исходя из таблицы F от df=2 и df_inner=25:\n",
    "F = 3.3852"
   ]
  },
  {
   "cell_type": "code",
   "execution_count": 99,
   "metadata": {},
   "outputs": [
    {
     "name": "stdout",
     "output_type": "stream",
     "text": [
      "Различия среднего роста среди взрослых футболистов, хоккеистов и штангистов между группами статистически значимое\n"
     ]
    }
   ],
   "source": [
    "if F_H>F:\n",
    "    print('Различия среднего роста среди взрослых футболистов, хоккеистов и штангистов между группами статистически значимое')\n",
    "else:\n",
    "    print('Различия среднего роста среди взрослых футболистов, хоккеистов и штангистов между группами статистически незначительное')"
   ]
  }
 ],
 "metadata": {
  "kernelspec": {
   "display_name": "Python 3",
   "language": "python",
   "name": "python3"
  },
  "language_info": {
   "codemirror_mode": {
    "name": "ipython",
    "version": 3
   },
   "file_extension": ".py",
   "mimetype": "text/x-python",
   "name": "python",
   "nbconvert_exporter": "python",
   "pygments_lexer": "ipython3",
   "version": "3.6.5"
  }
 },
 "nbformat": 4,
 "nbformat_minor": 2
}
