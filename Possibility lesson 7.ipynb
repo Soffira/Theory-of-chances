{
 "cells": [
  {
   "cell_type": "code",
   "execution_count": 16,
   "metadata": {},
   "outputs": [],
   "source": [
    "import numpy as np\n",
    "import pandas as pd"
   ]
  },
  {
   "cell_type": "markdown",
   "metadata": {},
   "source": [
    "#### 1. Даны значения величины заработной платы заемщиков банка (zp) и значения их поведенческого кредитного скоринга (ks): zp = [35, 45, 190, 200, 40, 70, 54, 150, 120, 110], ks = [401, 574, 874, 919, 459, 739, 653, 902, 746, 832]. Используя математические операции, посчитать коэффициенты линейной регрессии, приняв за X заработную плату (то есть, zp - признак), а за y - значения скорингового балла (то есть, ks - целевая переменная). Произвести расчет как с использованием intercept, так и без."
   ]
  },
  {
   "cell_type": "code",
   "execution_count": 17,
   "metadata": {},
   "outputs": [
    {
     "name": "stdout",
     "output_type": "stream",
     "text": [
      "b = 2.620538882402765\n"
     ]
    }
   ],
   "source": [
    "X = np.array([35, 45, 190, 200, 40, 70, 54, 150, 120, 110])\n",
    "y = np.array([401, 574, 874, 919, 459, 739, 653, 902, 746, 832])\n",
    "n = X.shape[0]\n",
    "b = (np.mean(X*y) - np.mean(X)*np.mean(y))/(np.mean(X**2)-np.mean(X)**2)\n",
    "\n",
    "print('b = {}'.format(b))"
   ]
  },
  {
   "cell_type": "code",
   "execution_count": 18,
   "metadata": {},
   "outputs": [
    {
     "data": {
      "text/plain": [
       "2.6205388824027653"
      ]
     },
     "execution_count": 18,
     "metadata": {},
     "output_type": "execute_result"
    }
   ],
   "source": [
    "b = (n*((X*y).sum()) - (X.sum()*y.sum()))/(n*((X**2).sum())-((X.sum()**2)))\n",
    "b"
   ]
  },
  {
   "cell_type": "code",
   "execution_count": 19,
   "metadata": {},
   "outputs": [
    {
     "data": {
      "text/plain": [
       "444.17735732435955"
      ]
     },
     "execution_count": 19,
     "metadata": {},
     "output_type": "execute_result"
    }
   ],
   "source": [
    "a = np.mean(y)-b*np.mean(X)\n",
    "a"
   ]
  },
  {
   "cell_type": "code",
   "execution_count": 20,
   "metadata": {},
   "outputs": [
    {
     "data": {
      "text/plain": [
       "array([535.89621821, 562.10160703, 942.07974498, 968.2851338 ,\n",
       "       548.99891262, 627.61507909, 585.68645697, 837.25818968,\n",
       "       758.64202321, 732.43663439])"
      ]
     },
     "execution_count": 20,
     "metadata": {},
     "output_type": "execute_result"
    }
   ],
   "source": [
    "y_hat = a + b*X\n",
    "y_hat"
   ]
  },
  {
   "cell_type": "code",
   "execution_count": 21,
   "metadata": {},
   "outputs": [
    {
     "data": {
      "text/plain": [
       "6470.414201176658"
      ]
     },
     "execution_count": 21,
     "metadata": {},
     "output_type": "execute_result"
    }
   ],
   "source": [
    "mse=((y-y_hat)**2).sum()/n\n",
    "mse"
   ]
  },
  {
   "cell_type": "markdown",
   "metadata": {},
   "source": [
    "###### 2 способ (при множестве независимых переменных)"
   ]
  },
  {
   "cell_type": "code",
   "execution_count": 22,
   "metadata": {},
   "outputs": [],
   "source": [
    "import seaborn as sns"
   ]
  },
  {
   "cell_type": "code",
   "execution_count": 23,
   "metadata": {},
   "outputs": [],
   "source": [
    "X = np.array([35, 45, 190, 200, 40, 70, 54, 150, 120, 110])\n",
    "y = np.array([401, 574, 874, 919, 459, 739, 653, 902, 746, 832])\n",
    "n = X.shape[0]"
   ]
  },
  {
   "cell_type": "code",
   "execution_count": 24,
   "metadata": {},
   "outputs": [
    {
     "data": {
      "text/plain": [
       "array([[401],\n",
       "       [574],\n",
       "       [874],\n",
       "       [919],\n",
       "       [459],\n",
       "       [739],\n",
       "       [653],\n",
       "       [902],\n",
       "       [746],\n",
       "       [832]])"
      ]
     },
     "execution_count": 24,
     "metadata": {},
     "output_type": "execute_result"
    }
   ],
   "source": [
    "y = y.reshape((10,1))\n",
    "y"
   ]
  },
  {
   "cell_type": "code",
   "execution_count": 25,
   "metadata": {},
   "outputs": [
    {
     "data": {
      "text/plain": [
       "array([[ 35],\n",
       "       [ 45],\n",
       "       [190],\n",
       "       [200],\n",
       "       [ 40],\n",
       "       [ 70],\n",
       "       [ 54],\n",
       "       [150],\n",
       "       [120],\n",
       "       [110]])"
      ]
     },
     "execution_count": 25,
     "metadata": {},
     "output_type": "execute_result"
    }
   ],
   "source": [
    "X = X.reshape((10,1))\n",
    "X"
   ]
  },
  {
   "cell_type": "code",
   "execution_count": 26,
   "metadata": {},
   "outputs": [
    {
     "data": {
      "text/plain": [
       "array([[  1.,  35.],\n",
       "       [  1.,  45.],\n",
       "       [  1., 190.],\n",
       "       [  1., 200.],\n",
       "       [  1.,  40.],\n",
       "       [  1.,  70.],\n",
       "       [  1.,  54.],\n",
       "       [  1., 150.],\n",
       "       [  1., 120.],\n",
       "       [  1., 110.]])"
      ]
     },
     "execution_count": 26,
     "metadata": {},
     "output_type": "execute_result"
    }
   ],
   "source": [
    "X=np.hstack([np.ones((10, 1)), X])\n",
    "X"
   ]
  },
  {
   "cell_type": "code",
   "execution_count": 27,
   "metadata": {},
   "outputs": [
    {
     "data": {
      "text/plain": [
       "array([[444.17735732],\n",
       "       [  2.62053888]])"
      ]
     },
     "execution_count": 27,
     "metadata": {},
     "output_type": "execute_result"
    }
   ],
   "source": [
    "B = np.dot(np.linalg.inv(np.dot(X.T,X)),X.T @y)\n",
    "B"
   ]
  },
  {
   "cell_type": "markdown",
   "metadata": {},
   "source": [
    "#### 2. Посчитать коэффициент линейной регрессии при заработной плате (zp), используя градиентный спуск."
   ]
  },
  {
   "cell_type": "code",
   "execution_count": 28,
   "metadata": {},
   "outputs": [],
   "source": [
    "X = np.array([35, 45, 190, 200, 40, 70, 54, 150, 120, 110])\n",
    "y = np.array([401, 574, 874, 919, 459, 739, 653, 902, 746, 832])\n",
    "n = X.shape[0]"
   ]
  },
  {
   "cell_type": "code",
   "execution_count": 29,
   "metadata": {},
   "outputs": [],
   "source": [
    "## mse_p=(2/n)*np.sum((B1*X-y)*X)\n",
    "## mse=(1/n)*np.sum((B1*X-y)**2)"
   ]
  },
  {
   "cell_type": "code",
   "execution_count": 30,
   "metadata": {},
   "outputs": [],
   "source": [
    "alpha=1e-6"
   ]
  },
  {
   "cell_type": "code",
   "execution_count": 31,
   "metadata": {},
   "outputs": [],
   "source": [
    "def mse_(B1, y=y,X=X,n=10):\n",
    "    return np.sum((B1*X-y)**2)/n"
   ]
  },
  {
   "cell_type": "code",
   "execution_count": 32,
   "metadata": {},
   "outputs": [
    {
     "data": {
      "text/plain": [
       "289723.2142124616"
      ]
     },
     "execution_count": 32,
     "metadata": {},
     "output_type": "execute_result"
    }
   ],
   "source": [
    "mse_(1.77549)"
   ]
  },
  {
   "cell_type": "code",
   "execution_count": 33,
   "metadata": {},
   "outputs": [],
   "source": [
    "B1=0.1\n",
    "n=10"
   ]
  },
  {
   "cell_type": "code",
   "execution_count": 34,
   "metadata": {},
   "outputs": [
    {
     "name": "stdout",
     "output_type": "stream",
     "text": [
      "B1=0.25952808\n",
      "B1=0.414660650906144\n",
      "B1=0.5655188230595969\n",
      "B1=0.7122203698240712\n",
      "B1=0.8548798195302346\n",
      "B1=0.9936085448867542\n",
      "B1=1.1285148499277806\n",
      "B1=1.2597040545647504\n",
      "B1=1.387278576808517\n",
      "B1=1.5113380127259965\n"
     ]
    }
   ],
   "source": [
    "for i in range (10):\n",
    "    B1 -=alpha*(2/n)*np.sum((B1*X-y)*X)\n",
    "    print('B1={}'.format(B1))"
   ]
  },
  {
   "cell_type": "code",
   "execution_count": 35,
   "metadata": {},
   "outputs": [
    {
     "name": "stdout",
     "output_type": "stream",
     "text": [
      "Iteration: 0,B1=1.6319792141937546, mse=306275.7568040035\n",
      "Iteration: 10,B1=2.6698789606516935, mse=199352.96411174876\n",
      "Iteration: 20,B1=3.4547782236263824, mse=138204.25062502263\n",
      "Iteration: 30,B1=4.04834889855975, mse=103233.54824312925\n",
      "Iteration: 40,B1=4.497229618367758, mse=83233.94472982832\n",
      "Iteration: 50,B1=4.836690291080364, mse=71796.25222021657\n",
      "Iteration: 60,B1=5.093403362579137, mse=65255.0820486468\n",
      "Iteration: 70,B1=5.287539550879594, mse=61514.21323463749\n",
      "Iteration: 80,B1=5.434352720103083, mse=59374.825462025976\n",
      "Iteration: 90,B1=5.54537842245223, mse=58151.31823171113\n"
     ]
    }
   ],
   "source": [
    "for i in range (100):\n",
    "    B1 -=alpha*(2/n)*np.sum((B1*X-y)*X)\n",
    "    if i%10==0:\n",
    "        print('Iteration: {i},B1={B1}, mse={mse}'.format(i=i, B1=B1, mse=mse_(B1)))"
   ]
  },
  {
   "cell_type": "markdown",
   "metadata": {},
   "source": [
    "#### 3. В каких случаях для вычисления доверительных интервалов и проверки статистических гипотез используется таблица значений функции Лапласа, а в каких - таблица критических точек распределения Стьюдента?"
   ]
  },
  {
   "cell_type": "code",
   "execution_count": 36,
   "metadata": {},
   "outputs": [],
   "source": [
    "# Таблица значений функции Лапласа применяется, когда число испытаний n достаточно велико \n",
    "# Таблица критических точек распределения Стьюдента используется при малых выборках и в случае, если мы не знаем дисперсию генеральной совокупности"
   ]
  },
  {
   "cell_type": "markdown",
   "metadata": {},
   "source": [
    "#### 4. Произвести вычисления как в пункте 2, но с вычислением intercept. Учесть, что изменение коэффициентов должно производиться на каждом шаге одновременно (то есть изменение одного коэффициента не должно влиять на изменение другого во время одной итерации)."
   ]
  },
  {
   "cell_type": "code",
   "execution_count": 37,
   "metadata": {},
   "outputs": [],
   "source": [
    "X = np.array([35, 45, 190, 200, 40, 70, 54, 150, 120, 110])\n",
    "y = np.array([401, 574, 874, 919, 459, 739, 653, 902, 746, 832])\n",
    "n = X.shape[0]\n",
    "alpha=1e-6"
   ]
  },
  {
   "cell_type": "code",
   "execution_count": 38,
   "metadata": {},
   "outputs": [],
   "source": [
    "B0=10\n",
    "B1=0.1"
   ]
  },
  {
   "cell_type": "code",
   "execution_count": 39,
   "metadata": {},
   "outputs": [],
   "source": [
    "def mse_(B0, B1, y=y, X=X, n=n):\n",
    "    return np.sum((B0 + B1*X - y)**2)/n"
   ]
  },
  {
   "cell_type": "code",
   "execution_count": 41,
   "metadata": {},
   "outputs": [
    {
     "name": "stdout",
     "output_type": "stream",
     "text": [
      "Iteration: 0, B0=31.516763281029714, B1=5.657903259835761, mse=49666.69872524247\n",
      "Iteration: 10000, B0=33.60490268552237, B1=5.642532140069896, mse=49230.64230717359\n",
      "Iteration: 20000, B0=35.68247572692948, B1=5.627240291694519, mse=48798.98777691631\n",
      "Iteration: 30000, B0=37.74953586204272, B1=5.612025822918235, mse=48371.690698472245\n",
      "Iteration: 40000, B0=39.806136288124826, B1=5.59688834218587, mse=47948.70708438156\n",
      "Iteration: 50000, B0=41.8523299332507, B1=5.581827459923589, mse=47529.99339122748\n",
      "Iteration: 60000, B0=43.8881694576688, B1=5.5668427885288745, mse=47115.50651515405\n",
      "Iteration: 70000, B0=45.913707255157185, B1=5.551933942360556, mse=46705.2037874286\n",
      "Iteration: 80000, B0=47.92899545437189, B1=5.537100537728869, mse=46299.04297004935\n",
      "Iteration: 90000, B0=49.93408592018708, B1=5.522342192885601, mse=45896.98225139746\n"
     ]
    }
   ],
   "source": [
    "for i in range (100000):\n",
    "    B0 -=alpha*(2/n)*np.sum(B0 + B1*X - y)\n",
    "    B1 -=alpha*(2/n)*np.sum((B0 + B1*X - y)*X)\n",
    "    if i%10000==0:\n",
    "        print('Iteration: {i}, B0={B0}, B1={B1}, mse={mse}'.format(i=i, B0=B0, B1=B1, mse=mse_(B0, B1)))"
   ]
  }
 ],
 "metadata": {
  "kernelspec": {
   "display_name": "Python 3",
   "language": "python",
   "name": "python3"
  },
  "language_info": {
   "codemirror_mode": {
    "name": "ipython",
    "version": 3
   },
   "file_extension": ".py",
   "mimetype": "text/x-python",
   "name": "python",
   "nbconvert_exporter": "python",
   "pygments_lexer": "ipython3",
   "version": "3.6.5"
  }
 },
 "nbformat": 4,
 "nbformat_minor": 2
}
